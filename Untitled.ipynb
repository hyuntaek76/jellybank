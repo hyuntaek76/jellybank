{
 "cells": [
  {
   "cell_type": "code",
   "execution_count": 5,
   "metadata": {},
   "outputs": [],
   "source": [
    "import json\n",
    "\n",
    "with open('secrets.json') as json_file:\n",
    "    secrets = json.load(json_file)\n",
    "\n",
    "\n",
    "SECRET_KEY = secrets[\"SECRET_KEY\"]\n",
    "DB_NAME = secrets[\"DB_NAME\"]\n",
    "DB_USER = secrets[\"DB_USER\"]\n",
    "DB_PASSWORD = secrets[\"DB_PASSWORD\"]\n",
    "DB_HOST = secrets[\"DB_HOST\"]"
   ]
  },
  {
   "cell_type": "code",
   "execution_count": null,
   "metadata": {},
   "outputs": [],
   "source": []
  }
 ],
 "metadata": {
  "kernelspec": {
   "display_name": "Python 3",
   "language": "python",
   "name": "python3"
  },
  "language_info": {
   "codemirror_mode": {
    "name": "ipython",
    "version": 3
   },
   "file_extension": ".py",
   "mimetype": "text/x-python",
   "name": "python",
   "nbconvert_exporter": "python",
   "pygments_lexer": "ipython3",
   "version": "3.7.3"
  }
 },
 "nbformat": 4,
 "nbformat_minor": 4
}
